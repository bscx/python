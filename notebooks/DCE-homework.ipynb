{
 "metadata": {
  "language_info": {
   "codemirror_mode": {
    "name": "ipython",
    "version": 3
   },
   "file_extension": ".py",
   "mimetype": "text/x-python",
   "name": "python",
   "nbconvert_exporter": "python",
   "pygments_lexer": "ipython3",
   "version": "3.9.5"
  },
  "orig_nbformat": 2,
  "kernelspec": {
   "name": "python395jvsc74a57bd0aee8b7b246df8f9039afb4144a1f6fd8d2ca17a180786b69acc140d282b71a49",
   "display_name": "Python 3.9.5 64-bit"
  },
  "metadata": {
   "interpreter": {
    "hash": "aee8b7b246df8f9039afb4144a1f6fd8d2ca17a180786b69acc140d282b71a49"
   }
  }
 },
 "nbformat": 4,
 "nbformat_minor": 2,
 "cells": [
  {
   "source": [
    "# Data Cleaning Excercise\n",
    "## Import data set"
   ],
   "cell_type": "markdown",
   "metadata": {}
  },
  {
   "cell_type": "code",
   "execution_count": 42,
   "metadata": {},
   "outputs": [
    {
     "output_type": "execute_result",
     "data": {
      "text/plain": [
       "      id              full_name  first_name    last_name  \\\n",
       "0    1.0        Mariel Finnigan      Mariel     Finnigan   \n",
       "1    2.0          Kenyon Possek      Kenyon       Possek   \n",
       "2    3.0         Lalo Manifould        Lalo    Manifould   \n",
       "3    4.0         Nickola Carous     Nickola       Carous   \n",
       "4    5.0          Norman Dubbin      Norman       Dubbin   \n",
       "5    6.0           Hasty Perdue       Hasty       Perdue   \n",
       "6    7.0         Franz Castello       Franz     Castello   \n",
       "7    8.0           Jorge Tarney       Jorge       Tarney   \n",
       "8    9.0     Eunice Blakebrough      Eunice  Blakebrough   \n",
       "9   10.0  Kristopher Frankcombe  Kristopher   Frankcombe   \n",
       "10  11.0           Palm Domotor        Palm      Domotor   \n",
       "11  12.0          Luz Lansdowne         Luz    Lansdowne   \n",
       "12  13.0         Modestia Keble    Modestia        Keble   \n",
       "13  14.0           Stacee Bovis      Stacee        Bovis   \n",
       "14  15.0              Eden Wace        Eden         Wace   \n",
       "15  16.0              Eden Wace        Eden         Wace   \n",
       "16  17.0        Tobias Sherburn      Tobias     Sherburn   \n",
       "17   NaN                    NaN         NaN          NaN   \n",
       "18  19.0         Clair Skillern       Clair     Skillern   \n",
       "19  20.0        Mathew Addicott      Mathew     Addicott   \n",
       "20  21.0       Kerianne Goacher    Kerianne      Goacher   \n",
       "21   NaN          Maurits Shawl     Maurits        Shawl   \n",
       "22   NaN                    NaN         NaN          NaN   \n",
       "\n",
       "                             email  gender  age  \n",
       "0              mfinnigan0@usda.gov  Female   60  \n",
       "1                kpossek1@ucoz.com    Male   12  \n",
       "2              lmanifould2@pbs.org    Male   26  \n",
       "3                ncarous3@phoca.cz    Male    4  \n",
       "4           ndubbin4@wikipedia.org    Male   17  \n",
       "5                  hperdue5@qq.com     NaN   77  \n",
       "6              fcastello6@1688.com    Male   25  \n",
       "7                  jtarney7@ft.com    Male   77  \n",
       "8           eblakebrough8@sohu.com  Female   45  \n",
       "9           kfrankcombe9@slate.com    Male  old  \n",
       "10             pdomotora@github.io    Male    6  \n",
       "11     llansdowneb@theguardian.com  Female   16  \n",
       "12                 mkeblec@cmu.edu  Female   91  \n",
       "13           sbovisd@webeden.co.uk  Female   22  \n",
       "14             ewacee@marriott.com  Female   16  \n",
       "15             ewacee@marriott.com  Female   16  \n",
       "16         tsherburnf@facebook.com    Male    2  \n",
       "17                             NaN     NaN  NaN  \n",
       "18              cskillerng@nih.gov    Male  -78  \n",
       "19  maddicotth@acquirethisname.com    Male   65  \n",
       "20                             NaN  Female   45  \n",
       "21                mshawlj@dmoz.org    Male   72  \n",
       "22                             NaN     NaN  NaN  "
      ],
      "text/html": "<div>\n<style scoped>\n    .dataframe tbody tr th:only-of-type {\n        vertical-align: middle;\n    }\n\n    .dataframe tbody tr th {\n        vertical-align: top;\n    }\n\n    .dataframe thead th {\n        text-align: right;\n    }\n</style>\n<table border=\"1\" class=\"dataframe\">\n  <thead>\n    <tr style=\"text-align: right;\">\n      <th></th>\n      <th>id</th>\n      <th>full_name</th>\n      <th>first_name</th>\n      <th>last_name</th>\n      <th>email</th>\n      <th>gender</th>\n      <th>age</th>\n    </tr>\n  </thead>\n  <tbody>\n    <tr>\n      <th>0</th>\n      <td>1.0</td>\n      <td>Mariel Finnigan</td>\n      <td>Mariel</td>\n      <td>Finnigan</td>\n      <td>mfinnigan0@usda.gov</td>\n      <td>Female</td>\n      <td>60</td>\n    </tr>\n    <tr>\n      <th>1</th>\n      <td>2.0</td>\n      <td>Kenyon Possek</td>\n      <td>Kenyon</td>\n      <td>Possek</td>\n      <td>kpossek1@ucoz.com</td>\n      <td>Male</td>\n      <td>12</td>\n    </tr>\n    <tr>\n      <th>2</th>\n      <td>3.0</td>\n      <td>Lalo Manifould</td>\n      <td>Lalo</td>\n      <td>Manifould</td>\n      <td>lmanifould2@pbs.org</td>\n      <td>Male</td>\n      <td>26</td>\n    </tr>\n    <tr>\n      <th>3</th>\n      <td>4.0</td>\n      <td>Nickola Carous</td>\n      <td>Nickola</td>\n      <td>Carous</td>\n      <td>ncarous3@phoca.cz</td>\n      <td>Male</td>\n      <td>4</td>\n    </tr>\n    <tr>\n      <th>4</th>\n      <td>5.0</td>\n      <td>Norman Dubbin</td>\n      <td>Norman</td>\n      <td>Dubbin</td>\n      <td>ndubbin4@wikipedia.org</td>\n      <td>Male</td>\n      <td>17</td>\n    </tr>\n    <tr>\n      <th>5</th>\n      <td>6.0</td>\n      <td>Hasty Perdue</td>\n      <td>Hasty</td>\n      <td>Perdue</td>\n      <td>hperdue5@qq.com</td>\n      <td>NaN</td>\n      <td>77</td>\n    </tr>\n    <tr>\n      <th>6</th>\n      <td>7.0</td>\n      <td>Franz Castello</td>\n      <td>Franz</td>\n      <td>Castello</td>\n      <td>fcastello6@1688.com</td>\n      <td>Male</td>\n      <td>25</td>\n    </tr>\n    <tr>\n      <th>7</th>\n      <td>8.0</td>\n      <td>Jorge Tarney</td>\n      <td>Jorge</td>\n      <td>Tarney</td>\n      <td>jtarney7@ft.com</td>\n      <td>Male</td>\n      <td>77</td>\n    </tr>\n    <tr>\n      <th>8</th>\n      <td>9.0</td>\n      <td>Eunice Blakebrough</td>\n      <td>Eunice</td>\n      <td>Blakebrough</td>\n      <td>eblakebrough8@sohu.com</td>\n      <td>Female</td>\n      <td>45</td>\n    </tr>\n    <tr>\n      <th>9</th>\n      <td>10.0</td>\n      <td>Kristopher Frankcombe</td>\n      <td>Kristopher</td>\n      <td>Frankcombe</td>\n      <td>kfrankcombe9@slate.com</td>\n      <td>Male</td>\n      <td>old</td>\n    </tr>\n    <tr>\n      <th>10</th>\n      <td>11.0</td>\n      <td>Palm Domotor</td>\n      <td>Palm</td>\n      <td>Domotor</td>\n      <td>pdomotora@github.io</td>\n      <td>Male</td>\n      <td>6</td>\n    </tr>\n    <tr>\n      <th>11</th>\n      <td>12.0</td>\n      <td>Luz Lansdowne</td>\n      <td>Luz</td>\n      <td>Lansdowne</td>\n      <td>llansdowneb@theguardian.com</td>\n      <td>Female</td>\n      <td>16</td>\n    </tr>\n    <tr>\n      <th>12</th>\n      <td>13.0</td>\n      <td>Modestia Keble</td>\n      <td>Modestia</td>\n      <td>Keble</td>\n      <td>mkeblec@cmu.edu</td>\n      <td>Female</td>\n      <td>91</td>\n    </tr>\n    <tr>\n      <th>13</th>\n      <td>14.0</td>\n      <td>Stacee Bovis</td>\n      <td>Stacee</td>\n      <td>Bovis</td>\n      <td>sbovisd@webeden.co.uk</td>\n      <td>Female</td>\n      <td>22</td>\n    </tr>\n    <tr>\n      <th>14</th>\n      <td>15.0</td>\n      <td>Eden Wace</td>\n      <td>Eden</td>\n      <td>Wace</td>\n      <td>ewacee@marriott.com</td>\n      <td>Female</td>\n      <td>16</td>\n    </tr>\n    <tr>\n      <th>15</th>\n      <td>16.0</td>\n      <td>Eden Wace</td>\n      <td>Eden</td>\n      <td>Wace</td>\n      <td>ewacee@marriott.com</td>\n      <td>Female</td>\n      <td>16</td>\n    </tr>\n    <tr>\n      <th>16</th>\n      <td>17.0</td>\n      <td>Tobias Sherburn</td>\n      <td>Tobias</td>\n      <td>Sherburn</td>\n      <td>tsherburnf@facebook.com</td>\n      <td>Male</td>\n      <td>2</td>\n    </tr>\n    <tr>\n      <th>17</th>\n      <td>NaN</td>\n      <td>NaN</td>\n      <td>NaN</td>\n      <td>NaN</td>\n      <td>NaN</td>\n      <td>NaN</td>\n      <td>NaN</td>\n    </tr>\n    <tr>\n      <th>18</th>\n      <td>19.0</td>\n      <td>Clair Skillern</td>\n      <td>Clair</td>\n      <td>Skillern</td>\n      <td>cskillerng@nih.gov</td>\n      <td>Male</td>\n      <td>-78</td>\n    </tr>\n    <tr>\n      <th>19</th>\n      <td>20.0</td>\n      <td>Mathew Addicott</td>\n      <td>Mathew</td>\n      <td>Addicott</td>\n      <td>maddicotth@acquirethisname.com</td>\n      <td>Male</td>\n      <td>65</td>\n    </tr>\n    <tr>\n      <th>20</th>\n      <td>21.0</td>\n      <td>Kerianne Goacher</td>\n      <td>Kerianne</td>\n      <td>Goacher</td>\n      <td>NaN</td>\n      <td>Female</td>\n      <td>45</td>\n    </tr>\n    <tr>\n      <th>21</th>\n      <td>NaN</td>\n      <td>Maurits Shawl</td>\n      <td>Maurits</td>\n      <td>Shawl</td>\n      <td>mshawlj@dmoz.org</td>\n      <td>Male</td>\n      <td>72</td>\n    </tr>\n    <tr>\n      <th>22</th>\n      <td>NaN</td>\n      <td>NaN</td>\n      <td>NaN</td>\n      <td>NaN</td>\n      <td>NaN</td>\n      <td>NaN</td>\n      <td>NaN</td>\n    </tr>\n  </tbody>\n</table>\n</div>"
     },
     "metadata": {},
     "execution_count": 42
    }
   ],
   "source": [
    "import pandas as pd\n",
    "import numpy as np\n",
    "\n",
    "url = 'https://raw.githubusercontent.com/edlich/eternalrepo/master/DS-WAHLFACH/dsm-beuth-edl-demodata-dirty.csv'\n",
    "df = pd.read_csv(url, error_bad_lines=False)\n",
    "df"
   ]
  },
  {
   "source": [
    "## Get an overview of missing data\n",
    "Calculate how many cells are actually NaNs."
   ],
   "cell_type": "markdown",
   "metadata": {}
  },
  {
   "cell_type": "code",
   "execution_count": 43,
   "metadata": {},
   "outputs": [
    {
     "output_type": "execute_result",
     "data": {
      "text/plain": [
       "10.559006211180124"
      ]
     },
     "metadata": {},
     "execution_count": 43
    }
   ],
   "source": [
    "missing_values_count = df.isnull().sum()\n",
    "missing_values_count\n",
    "\n",
    "# how many total missing values do we have?\n",
    "total_cells = np.product(df.shape)\n",
    "total_missing = missing_values_count.sum()\n",
    "\n",
    "# percent of data that is missing\n",
    "(total_missing/total_cells) * 100"
   ]
  },
  {
   "source": [
    "## Strip every cell\n",
    "Leading or trailing spaces are likely in a data set which is why I want them to be stripped from every data cell."
   ],
   "cell_type": "markdown",
   "metadata": {}
  },
  {
   "source": [
    "# Strip cells\n",
    "# As seen here: https://stackoverflow.com/a/45355563\n",
    "df_trimmed = df.apply(lambda x: x.str.strip() if x.dtype == \"object\" else x)\n",
    "df_trimmed\n"
   ],
   "cell_type": "code",
   "metadata": {},
   "execution_count": 44,
   "outputs": [
    {
     "output_type": "execute_result",
     "data": {
      "text/plain": [
       "      id              full_name  first_name    last_name  \\\n",
       "0    1.0        Mariel Finnigan      Mariel     Finnigan   \n",
       "1    2.0          Kenyon Possek      Kenyon       Possek   \n",
       "2    3.0         Lalo Manifould        Lalo    Manifould   \n",
       "3    4.0         Nickola Carous     Nickola       Carous   \n",
       "4    5.0          Norman Dubbin      Norman       Dubbin   \n",
       "5    6.0           Hasty Perdue       Hasty       Perdue   \n",
       "6    7.0         Franz Castello       Franz     Castello   \n",
       "7    8.0           Jorge Tarney       Jorge       Tarney   \n",
       "8    9.0     Eunice Blakebrough      Eunice  Blakebrough   \n",
       "9   10.0  Kristopher Frankcombe  Kristopher   Frankcombe   \n",
       "10  11.0           Palm Domotor        Palm      Domotor   \n",
       "11  12.0          Luz Lansdowne         Luz    Lansdowne   \n",
       "12  13.0         Modestia Keble    Modestia        Keble   \n",
       "13  14.0           Stacee Bovis      Stacee        Bovis   \n",
       "14  15.0              Eden Wace        Eden         Wace   \n",
       "15  16.0              Eden Wace        Eden         Wace   \n",
       "16  17.0        Tobias Sherburn      Tobias     Sherburn   \n",
       "17   NaN                    NaN         NaN          NaN   \n",
       "18  19.0         Clair Skillern       Clair     Skillern   \n",
       "19  20.0        Mathew Addicott      Mathew     Addicott   \n",
       "20  21.0       Kerianne Goacher    Kerianne      Goacher   \n",
       "21   NaN          Maurits Shawl     Maurits        Shawl   \n",
       "22   NaN                    NaN         NaN          NaN   \n",
       "\n",
       "                             email  gender  age  \n",
       "0              mfinnigan0@usda.gov  Female   60  \n",
       "1                kpossek1@ucoz.com    Male   12  \n",
       "2              lmanifould2@pbs.org    Male   26  \n",
       "3                ncarous3@phoca.cz    Male    4  \n",
       "4           ndubbin4@wikipedia.org    Male   17  \n",
       "5                  hperdue5@qq.com     NaN   77  \n",
       "6              fcastello6@1688.com    Male   25  \n",
       "7                  jtarney7@ft.com    Male   77  \n",
       "8           eblakebrough8@sohu.com  Female   45  \n",
       "9           kfrankcombe9@slate.com    Male  old  \n",
       "10             pdomotora@github.io    Male    6  \n",
       "11     llansdowneb@theguardian.com  Female   16  \n",
       "12                 mkeblec@cmu.edu  Female   91  \n",
       "13           sbovisd@webeden.co.uk  Female   22  \n",
       "14             ewacee@marriott.com  Female   16  \n",
       "15             ewacee@marriott.com  Female   16  \n",
       "16         tsherburnf@facebook.com    Male    2  \n",
       "17                             NaN     NaN  NaN  \n",
       "18              cskillerng@nih.gov    Male  -78  \n",
       "19  maddicotth@acquirethisname.com    Male   65  \n",
       "20                             NaN  Female   45  \n",
       "21                mshawlj@dmoz.org    Male   72  \n",
       "22                             NaN     NaN  NaN  "
      ],
      "text/html": "<div>\n<style scoped>\n    .dataframe tbody tr th:only-of-type {\n        vertical-align: middle;\n    }\n\n    .dataframe tbody tr th {\n        vertical-align: top;\n    }\n\n    .dataframe thead th {\n        text-align: right;\n    }\n</style>\n<table border=\"1\" class=\"dataframe\">\n  <thead>\n    <tr style=\"text-align: right;\">\n      <th></th>\n      <th>id</th>\n      <th>full_name</th>\n      <th>first_name</th>\n      <th>last_name</th>\n      <th>email</th>\n      <th>gender</th>\n      <th>age</th>\n    </tr>\n  </thead>\n  <tbody>\n    <tr>\n      <th>0</th>\n      <td>1.0</td>\n      <td>Mariel Finnigan</td>\n      <td>Mariel</td>\n      <td>Finnigan</td>\n      <td>mfinnigan0@usda.gov</td>\n      <td>Female</td>\n      <td>60</td>\n    </tr>\n    <tr>\n      <th>1</th>\n      <td>2.0</td>\n      <td>Kenyon Possek</td>\n      <td>Kenyon</td>\n      <td>Possek</td>\n      <td>kpossek1@ucoz.com</td>\n      <td>Male</td>\n      <td>12</td>\n    </tr>\n    <tr>\n      <th>2</th>\n      <td>3.0</td>\n      <td>Lalo Manifould</td>\n      <td>Lalo</td>\n      <td>Manifould</td>\n      <td>lmanifould2@pbs.org</td>\n      <td>Male</td>\n      <td>26</td>\n    </tr>\n    <tr>\n      <th>3</th>\n      <td>4.0</td>\n      <td>Nickola Carous</td>\n      <td>Nickola</td>\n      <td>Carous</td>\n      <td>ncarous3@phoca.cz</td>\n      <td>Male</td>\n      <td>4</td>\n    </tr>\n    <tr>\n      <th>4</th>\n      <td>5.0</td>\n      <td>Norman Dubbin</td>\n      <td>Norman</td>\n      <td>Dubbin</td>\n      <td>ndubbin4@wikipedia.org</td>\n      <td>Male</td>\n      <td>17</td>\n    </tr>\n    <tr>\n      <th>5</th>\n      <td>6.0</td>\n      <td>Hasty Perdue</td>\n      <td>Hasty</td>\n      <td>Perdue</td>\n      <td>hperdue5@qq.com</td>\n      <td>NaN</td>\n      <td>77</td>\n    </tr>\n    <tr>\n      <th>6</th>\n      <td>7.0</td>\n      <td>Franz Castello</td>\n      <td>Franz</td>\n      <td>Castello</td>\n      <td>fcastello6@1688.com</td>\n      <td>Male</td>\n      <td>25</td>\n    </tr>\n    <tr>\n      <th>7</th>\n      <td>8.0</td>\n      <td>Jorge Tarney</td>\n      <td>Jorge</td>\n      <td>Tarney</td>\n      <td>jtarney7@ft.com</td>\n      <td>Male</td>\n      <td>77</td>\n    </tr>\n    <tr>\n      <th>8</th>\n      <td>9.0</td>\n      <td>Eunice Blakebrough</td>\n      <td>Eunice</td>\n      <td>Blakebrough</td>\n      <td>eblakebrough8@sohu.com</td>\n      <td>Female</td>\n      <td>45</td>\n    </tr>\n    <tr>\n      <th>9</th>\n      <td>10.0</td>\n      <td>Kristopher Frankcombe</td>\n      <td>Kristopher</td>\n      <td>Frankcombe</td>\n      <td>kfrankcombe9@slate.com</td>\n      <td>Male</td>\n      <td>old</td>\n    </tr>\n    <tr>\n      <th>10</th>\n      <td>11.0</td>\n      <td>Palm Domotor</td>\n      <td>Palm</td>\n      <td>Domotor</td>\n      <td>pdomotora@github.io</td>\n      <td>Male</td>\n      <td>6</td>\n    </tr>\n    <tr>\n      <th>11</th>\n      <td>12.0</td>\n      <td>Luz Lansdowne</td>\n      <td>Luz</td>\n      <td>Lansdowne</td>\n      <td>llansdowneb@theguardian.com</td>\n      <td>Female</td>\n      <td>16</td>\n    </tr>\n    <tr>\n      <th>12</th>\n      <td>13.0</td>\n      <td>Modestia Keble</td>\n      <td>Modestia</td>\n      <td>Keble</td>\n      <td>mkeblec@cmu.edu</td>\n      <td>Female</td>\n      <td>91</td>\n    </tr>\n    <tr>\n      <th>13</th>\n      <td>14.0</td>\n      <td>Stacee Bovis</td>\n      <td>Stacee</td>\n      <td>Bovis</td>\n      <td>sbovisd@webeden.co.uk</td>\n      <td>Female</td>\n      <td>22</td>\n    </tr>\n    <tr>\n      <th>14</th>\n      <td>15.0</td>\n      <td>Eden Wace</td>\n      <td>Eden</td>\n      <td>Wace</td>\n      <td>ewacee@marriott.com</td>\n      <td>Female</td>\n      <td>16</td>\n    </tr>\n    <tr>\n      <th>15</th>\n      <td>16.0</td>\n      <td>Eden Wace</td>\n      <td>Eden</td>\n      <td>Wace</td>\n      <td>ewacee@marriott.com</td>\n      <td>Female</td>\n      <td>16</td>\n    </tr>\n    <tr>\n      <th>16</th>\n      <td>17.0</td>\n      <td>Tobias Sherburn</td>\n      <td>Tobias</td>\n      <td>Sherburn</td>\n      <td>tsherburnf@facebook.com</td>\n      <td>Male</td>\n      <td>2</td>\n    </tr>\n    <tr>\n      <th>17</th>\n      <td>NaN</td>\n      <td>NaN</td>\n      <td>NaN</td>\n      <td>NaN</td>\n      <td>NaN</td>\n      <td>NaN</td>\n      <td>NaN</td>\n    </tr>\n    <tr>\n      <th>18</th>\n      <td>19.0</td>\n      <td>Clair Skillern</td>\n      <td>Clair</td>\n      <td>Skillern</td>\n      <td>cskillerng@nih.gov</td>\n      <td>Male</td>\n      <td>-78</td>\n    </tr>\n    <tr>\n      <th>19</th>\n      <td>20.0</td>\n      <td>Mathew Addicott</td>\n      <td>Mathew</td>\n      <td>Addicott</td>\n      <td>maddicotth@acquirethisname.com</td>\n      <td>Male</td>\n      <td>65</td>\n    </tr>\n    <tr>\n      <th>20</th>\n      <td>21.0</td>\n      <td>Kerianne Goacher</td>\n      <td>Kerianne</td>\n      <td>Goacher</td>\n      <td>NaN</td>\n      <td>Female</td>\n      <td>45</td>\n    </tr>\n    <tr>\n      <th>21</th>\n      <td>NaN</td>\n      <td>Maurits Shawl</td>\n      <td>Maurits</td>\n      <td>Shawl</td>\n      <td>mshawlj@dmoz.org</td>\n      <td>Male</td>\n      <td>72</td>\n    </tr>\n    <tr>\n      <th>22</th>\n      <td>NaN</td>\n      <td>NaN</td>\n      <td>NaN</td>\n      <td>NaN</td>\n      <td>NaN</td>\n      <td>NaN</td>\n      <td>NaN</td>\n    </tr>\n  </tbody>\n</table>\n</div>"
     },
     "metadata": {},
     "execution_count": 44
    }
   ]
  },
  {
   "source": [
    "## Remove duplicates\n",
    "At least one entry is certainly a duplicate (see Eden Wace). Also the two NaN rows are duplicates."
   ],
   "cell_type": "markdown",
   "metadata": {}
  },
  {
   "cell_type": "code",
   "execution_count": 48,
   "metadata": {},
   "outputs": [
    {
     "output_type": "execute_result",
     "data": {
      "text/plain": [
       "      id              full_name  first_name    last_name  \\\n",
       "0    1.0        Mariel Finnigan      Mariel     Finnigan   \n",
       "1    2.0          Kenyon Possek      Kenyon       Possek   \n",
       "2    3.0         Lalo Manifould        Lalo    Manifould   \n",
       "3    4.0         Nickola Carous     Nickola       Carous   \n",
       "4    5.0          Norman Dubbin      Norman       Dubbin   \n",
       "5    6.0           Hasty Perdue       Hasty       Perdue   \n",
       "6    7.0         Franz Castello       Franz     Castello   \n",
       "7    8.0           Jorge Tarney       Jorge       Tarney   \n",
       "8    9.0     Eunice Blakebrough      Eunice  Blakebrough   \n",
       "9   10.0  Kristopher Frankcombe  Kristopher   Frankcombe   \n",
       "10  11.0           Palm Domotor        Palm      Domotor   \n",
       "11  12.0          Luz Lansdowne         Luz    Lansdowne   \n",
       "12  13.0         Modestia Keble    Modestia        Keble   \n",
       "13  14.0           Stacee Bovis      Stacee        Bovis   \n",
       "14  15.0              Eden Wace        Eden         Wace   \n",
       "16  17.0        Tobias Sherburn      Tobias     Sherburn   \n",
       "17   NaN                    NaN         NaN          NaN   \n",
       "18  19.0         Clair Skillern       Clair     Skillern   \n",
       "19  20.0        Mathew Addicott      Mathew     Addicott   \n",
       "20  21.0       Kerianne Goacher    Kerianne      Goacher   \n",
       "21   NaN          Maurits Shawl     Maurits        Shawl   \n",
       "\n",
       "                             email  gender  age  \n",
       "0              mfinnigan0@usda.gov  Female   60  \n",
       "1                kpossek1@ucoz.com    Male   12  \n",
       "2              lmanifould2@pbs.org    Male   26  \n",
       "3                ncarous3@phoca.cz    Male    4  \n",
       "4           ndubbin4@wikipedia.org    Male   17  \n",
       "5                  hperdue5@qq.com     NaN   77  \n",
       "6              fcastello6@1688.com    Male   25  \n",
       "7                  jtarney7@ft.com    Male   77  \n",
       "8           eblakebrough8@sohu.com  Female   45  \n",
       "9           kfrankcombe9@slate.com    Male  old  \n",
       "10             pdomotora@github.io    Male    6  \n",
       "11     llansdowneb@theguardian.com  Female   16  \n",
       "12                 mkeblec@cmu.edu  Female   91  \n",
       "13           sbovisd@webeden.co.uk  Female   22  \n",
       "14             ewacee@marriott.com  Female   16  \n",
       "16         tsherburnf@facebook.com    Male    2  \n",
       "17                             NaN     NaN  NaN  \n",
       "18              cskillerng@nih.gov    Male  -78  \n",
       "19  maddicotth@acquirethisname.com    Male   65  \n",
       "20                             NaN  Female   45  \n",
       "21                mshawlj@dmoz.org    Male   72  "
      ],
      "text/html": "<div>\n<style scoped>\n    .dataframe tbody tr th:only-of-type {\n        vertical-align: middle;\n    }\n\n    .dataframe tbody tr th {\n        vertical-align: top;\n    }\n\n    .dataframe thead th {\n        text-align: right;\n    }\n</style>\n<table border=\"1\" class=\"dataframe\">\n  <thead>\n    <tr style=\"text-align: right;\">\n      <th></th>\n      <th>id</th>\n      <th>full_name</th>\n      <th>first_name</th>\n      <th>last_name</th>\n      <th>email</th>\n      <th>gender</th>\n      <th>age</th>\n    </tr>\n  </thead>\n  <tbody>\n    <tr>\n      <th>0</th>\n      <td>1.0</td>\n      <td>Mariel Finnigan</td>\n      <td>Mariel</td>\n      <td>Finnigan</td>\n      <td>mfinnigan0@usda.gov</td>\n      <td>Female</td>\n      <td>60</td>\n    </tr>\n    <tr>\n      <th>1</th>\n      <td>2.0</td>\n      <td>Kenyon Possek</td>\n      <td>Kenyon</td>\n      <td>Possek</td>\n      <td>kpossek1@ucoz.com</td>\n      <td>Male</td>\n      <td>12</td>\n    </tr>\n    <tr>\n      <th>2</th>\n      <td>3.0</td>\n      <td>Lalo Manifould</td>\n      <td>Lalo</td>\n      <td>Manifould</td>\n      <td>lmanifould2@pbs.org</td>\n      <td>Male</td>\n      <td>26</td>\n    </tr>\n    <tr>\n      <th>3</th>\n      <td>4.0</td>\n      <td>Nickola Carous</td>\n      <td>Nickola</td>\n      <td>Carous</td>\n      <td>ncarous3@phoca.cz</td>\n      <td>Male</td>\n      <td>4</td>\n    </tr>\n    <tr>\n      <th>4</th>\n      <td>5.0</td>\n      <td>Norman Dubbin</td>\n      <td>Norman</td>\n      <td>Dubbin</td>\n      <td>ndubbin4@wikipedia.org</td>\n      <td>Male</td>\n      <td>17</td>\n    </tr>\n    <tr>\n      <th>5</th>\n      <td>6.0</td>\n      <td>Hasty Perdue</td>\n      <td>Hasty</td>\n      <td>Perdue</td>\n      <td>hperdue5@qq.com</td>\n      <td>NaN</td>\n      <td>77</td>\n    </tr>\n    <tr>\n      <th>6</th>\n      <td>7.0</td>\n      <td>Franz Castello</td>\n      <td>Franz</td>\n      <td>Castello</td>\n      <td>fcastello6@1688.com</td>\n      <td>Male</td>\n      <td>25</td>\n    </tr>\n    <tr>\n      <th>7</th>\n      <td>8.0</td>\n      <td>Jorge Tarney</td>\n      <td>Jorge</td>\n      <td>Tarney</td>\n      <td>jtarney7@ft.com</td>\n      <td>Male</td>\n      <td>77</td>\n    </tr>\n    <tr>\n      <th>8</th>\n      <td>9.0</td>\n      <td>Eunice Blakebrough</td>\n      <td>Eunice</td>\n      <td>Blakebrough</td>\n      <td>eblakebrough8@sohu.com</td>\n      <td>Female</td>\n      <td>45</td>\n    </tr>\n    <tr>\n      <th>9</th>\n      <td>10.0</td>\n      <td>Kristopher Frankcombe</td>\n      <td>Kristopher</td>\n      <td>Frankcombe</td>\n      <td>kfrankcombe9@slate.com</td>\n      <td>Male</td>\n      <td>old</td>\n    </tr>\n    <tr>\n      <th>10</th>\n      <td>11.0</td>\n      <td>Palm Domotor</td>\n      <td>Palm</td>\n      <td>Domotor</td>\n      <td>pdomotora@github.io</td>\n      <td>Male</td>\n      <td>6</td>\n    </tr>\n    <tr>\n      <th>11</th>\n      <td>12.0</td>\n      <td>Luz Lansdowne</td>\n      <td>Luz</td>\n      <td>Lansdowne</td>\n      <td>llansdowneb@theguardian.com</td>\n      <td>Female</td>\n      <td>16</td>\n    </tr>\n    <tr>\n      <th>12</th>\n      <td>13.0</td>\n      <td>Modestia Keble</td>\n      <td>Modestia</td>\n      <td>Keble</td>\n      <td>mkeblec@cmu.edu</td>\n      <td>Female</td>\n      <td>91</td>\n    </tr>\n    <tr>\n      <th>13</th>\n      <td>14.0</td>\n      <td>Stacee Bovis</td>\n      <td>Stacee</td>\n      <td>Bovis</td>\n      <td>sbovisd@webeden.co.uk</td>\n      <td>Female</td>\n      <td>22</td>\n    </tr>\n    <tr>\n      <th>14</th>\n      <td>15.0</td>\n      <td>Eden Wace</td>\n      <td>Eden</td>\n      <td>Wace</td>\n      <td>ewacee@marriott.com</td>\n      <td>Female</td>\n      <td>16</td>\n    </tr>\n    <tr>\n      <th>16</th>\n      <td>17.0</td>\n      <td>Tobias Sherburn</td>\n      <td>Tobias</td>\n      <td>Sherburn</td>\n      <td>tsherburnf@facebook.com</td>\n      <td>Male</td>\n      <td>2</td>\n    </tr>\n    <tr>\n      <th>17</th>\n      <td>NaN</td>\n      <td>NaN</td>\n      <td>NaN</td>\n      <td>NaN</td>\n      <td>NaN</td>\n      <td>NaN</td>\n      <td>NaN</td>\n    </tr>\n    <tr>\n      <th>18</th>\n      <td>19.0</td>\n      <td>Clair Skillern</td>\n      <td>Clair</td>\n      <td>Skillern</td>\n      <td>cskillerng@nih.gov</td>\n      <td>Male</td>\n      <td>-78</td>\n    </tr>\n    <tr>\n      <th>19</th>\n      <td>20.0</td>\n      <td>Mathew Addicott</td>\n      <td>Mathew</td>\n      <td>Addicott</td>\n      <td>maddicotth@acquirethisname.com</td>\n      <td>Male</td>\n      <td>65</td>\n    </tr>\n    <tr>\n      <th>20</th>\n      <td>21.0</td>\n      <td>Kerianne Goacher</td>\n      <td>Kerianne</td>\n      <td>Goacher</td>\n      <td>NaN</td>\n      <td>Female</td>\n      <td>45</td>\n    </tr>\n    <tr>\n      <th>21</th>\n      <td>NaN</td>\n      <td>Maurits Shawl</td>\n      <td>Maurits</td>\n      <td>Shawl</td>\n      <td>mshawlj@dmoz.org</td>\n      <td>Male</td>\n      <td>72</td>\n    </tr>\n  </tbody>\n</table>\n</div>"
     },
     "metadata": {},
     "execution_count": 48
    }
   ],
   "source": [
    "df_removed_duplicates = df_trimmed.drop_duplicates(subset=df_trimmed.columns.difference(['id']))\n",
    "df_removed_duplicates"
   ]
  },
  {
   "source": [
    "## Drop only rows that are entirely useless\n",
    "Rows with all cells containing NaNs are useless and we can drop them."
   ],
   "cell_type": "markdown",
   "metadata": {}
  },
  {
   "cell_type": "code",
   "execution_count": 51,
   "metadata": {},
   "outputs": [
    {
     "output_type": "execute_result",
     "data": {
      "text/plain": [
       "      id              full_name  first_name    last_name  \\\n",
       "0    1.0        Mariel Finnigan      Mariel     Finnigan   \n",
       "1    2.0          Kenyon Possek      Kenyon       Possek   \n",
       "2    3.0         Lalo Manifould        Lalo    Manifould   \n",
       "3    4.0         Nickola Carous     Nickola       Carous   \n",
       "4    5.0          Norman Dubbin      Norman       Dubbin   \n",
       "5    6.0           Hasty Perdue       Hasty       Perdue   \n",
       "6    7.0         Franz Castello       Franz     Castello   \n",
       "7    8.0           Jorge Tarney       Jorge       Tarney   \n",
       "8    9.0     Eunice Blakebrough      Eunice  Blakebrough   \n",
       "9   10.0  Kristopher Frankcombe  Kristopher   Frankcombe   \n",
       "10  11.0           Palm Domotor        Palm      Domotor   \n",
       "11  12.0          Luz Lansdowne         Luz    Lansdowne   \n",
       "12  13.0         Modestia Keble    Modestia        Keble   \n",
       "13  14.0           Stacee Bovis      Stacee        Bovis   \n",
       "14  15.0              Eden Wace        Eden         Wace   \n",
       "16  17.0        Tobias Sherburn      Tobias     Sherburn   \n",
       "18  19.0         Clair Skillern       Clair     Skillern   \n",
       "19  20.0        Mathew Addicott      Mathew     Addicott   \n",
       "20  21.0       Kerianne Goacher    Kerianne      Goacher   \n",
       "21   NaN          Maurits Shawl     Maurits        Shawl   \n",
       "\n",
       "                             email  gender  age  \n",
       "0              mfinnigan0@usda.gov  Female   60  \n",
       "1                kpossek1@ucoz.com    Male   12  \n",
       "2              lmanifould2@pbs.org    Male   26  \n",
       "3                ncarous3@phoca.cz    Male    4  \n",
       "4           ndubbin4@wikipedia.org    Male   17  \n",
       "5                  hperdue5@qq.com     NaN   77  \n",
       "6              fcastello6@1688.com    Male   25  \n",
       "7                  jtarney7@ft.com    Male   77  \n",
       "8           eblakebrough8@sohu.com  Female   45  \n",
       "9           kfrankcombe9@slate.com    Male  old  \n",
       "10             pdomotora@github.io    Male    6  \n",
       "11     llansdowneb@theguardian.com  Female   16  \n",
       "12                 mkeblec@cmu.edu  Female   91  \n",
       "13           sbovisd@webeden.co.uk  Female   22  \n",
       "14             ewacee@marriott.com  Female   16  \n",
       "16         tsherburnf@facebook.com    Male    2  \n",
       "18              cskillerng@nih.gov    Male  -78  \n",
       "19  maddicotth@acquirethisname.com    Male   65  \n",
       "20                             NaN  Female   45  \n",
       "21                mshawlj@dmoz.org    Male   72  "
      ],
      "text/html": "<div>\n<style scoped>\n    .dataframe tbody tr th:only-of-type {\n        vertical-align: middle;\n    }\n\n    .dataframe tbody tr th {\n        vertical-align: top;\n    }\n\n    .dataframe thead th {\n        text-align: right;\n    }\n</style>\n<table border=\"1\" class=\"dataframe\">\n  <thead>\n    <tr style=\"text-align: right;\">\n      <th></th>\n      <th>id</th>\n      <th>full_name</th>\n      <th>first_name</th>\n      <th>last_name</th>\n      <th>email</th>\n      <th>gender</th>\n      <th>age</th>\n    </tr>\n  </thead>\n  <tbody>\n    <tr>\n      <th>0</th>\n      <td>1.0</td>\n      <td>Mariel Finnigan</td>\n      <td>Mariel</td>\n      <td>Finnigan</td>\n      <td>mfinnigan0@usda.gov</td>\n      <td>Female</td>\n      <td>60</td>\n    </tr>\n    <tr>\n      <th>1</th>\n      <td>2.0</td>\n      <td>Kenyon Possek</td>\n      <td>Kenyon</td>\n      <td>Possek</td>\n      <td>kpossek1@ucoz.com</td>\n      <td>Male</td>\n      <td>12</td>\n    </tr>\n    <tr>\n      <th>2</th>\n      <td>3.0</td>\n      <td>Lalo Manifould</td>\n      <td>Lalo</td>\n      <td>Manifould</td>\n      <td>lmanifould2@pbs.org</td>\n      <td>Male</td>\n      <td>26</td>\n    </tr>\n    <tr>\n      <th>3</th>\n      <td>4.0</td>\n      <td>Nickola Carous</td>\n      <td>Nickola</td>\n      <td>Carous</td>\n      <td>ncarous3@phoca.cz</td>\n      <td>Male</td>\n      <td>4</td>\n    </tr>\n    <tr>\n      <th>4</th>\n      <td>5.0</td>\n      <td>Norman Dubbin</td>\n      <td>Norman</td>\n      <td>Dubbin</td>\n      <td>ndubbin4@wikipedia.org</td>\n      <td>Male</td>\n      <td>17</td>\n    </tr>\n    <tr>\n      <th>5</th>\n      <td>6.0</td>\n      <td>Hasty Perdue</td>\n      <td>Hasty</td>\n      <td>Perdue</td>\n      <td>hperdue5@qq.com</td>\n      <td>NaN</td>\n      <td>77</td>\n    </tr>\n    <tr>\n      <th>6</th>\n      <td>7.0</td>\n      <td>Franz Castello</td>\n      <td>Franz</td>\n      <td>Castello</td>\n      <td>fcastello6@1688.com</td>\n      <td>Male</td>\n      <td>25</td>\n    </tr>\n    <tr>\n      <th>7</th>\n      <td>8.0</td>\n      <td>Jorge Tarney</td>\n      <td>Jorge</td>\n      <td>Tarney</td>\n      <td>jtarney7@ft.com</td>\n      <td>Male</td>\n      <td>77</td>\n    </tr>\n    <tr>\n      <th>8</th>\n      <td>9.0</td>\n      <td>Eunice Blakebrough</td>\n      <td>Eunice</td>\n      <td>Blakebrough</td>\n      <td>eblakebrough8@sohu.com</td>\n      <td>Female</td>\n      <td>45</td>\n    </tr>\n    <tr>\n      <th>9</th>\n      <td>10.0</td>\n      <td>Kristopher Frankcombe</td>\n      <td>Kristopher</td>\n      <td>Frankcombe</td>\n      <td>kfrankcombe9@slate.com</td>\n      <td>Male</td>\n      <td>old</td>\n    </tr>\n    <tr>\n      <th>10</th>\n      <td>11.0</td>\n      <td>Palm Domotor</td>\n      <td>Palm</td>\n      <td>Domotor</td>\n      <td>pdomotora@github.io</td>\n      <td>Male</td>\n      <td>6</td>\n    </tr>\n    <tr>\n      <th>11</th>\n      <td>12.0</td>\n      <td>Luz Lansdowne</td>\n      <td>Luz</td>\n      <td>Lansdowne</td>\n      <td>llansdowneb@theguardian.com</td>\n      <td>Female</td>\n      <td>16</td>\n    </tr>\n    <tr>\n      <th>12</th>\n      <td>13.0</td>\n      <td>Modestia Keble</td>\n      <td>Modestia</td>\n      <td>Keble</td>\n      <td>mkeblec@cmu.edu</td>\n      <td>Female</td>\n      <td>91</td>\n    </tr>\n    <tr>\n      <th>13</th>\n      <td>14.0</td>\n      <td>Stacee Bovis</td>\n      <td>Stacee</td>\n      <td>Bovis</td>\n      <td>sbovisd@webeden.co.uk</td>\n      <td>Female</td>\n      <td>22</td>\n    </tr>\n    <tr>\n      <th>14</th>\n      <td>15.0</td>\n      <td>Eden Wace</td>\n      <td>Eden</td>\n      <td>Wace</td>\n      <td>ewacee@marriott.com</td>\n      <td>Female</td>\n      <td>16</td>\n    </tr>\n    <tr>\n      <th>16</th>\n      <td>17.0</td>\n      <td>Tobias Sherburn</td>\n      <td>Tobias</td>\n      <td>Sherburn</td>\n      <td>tsherburnf@facebook.com</td>\n      <td>Male</td>\n      <td>2</td>\n    </tr>\n    <tr>\n      <th>18</th>\n      <td>19.0</td>\n      <td>Clair Skillern</td>\n      <td>Clair</td>\n      <td>Skillern</td>\n      <td>cskillerng@nih.gov</td>\n      <td>Male</td>\n      <td>-78</td>\n    </tr>\n    <tr>\n      <th>19</th>\n      <td>20.0</td>\n      <td>Mathew Addicott</td>\n      <td>Mathew</td>\n      <td>Addicott</td>\n      <td>maddicotth@acquirethisname.com</td>\n      <td>Male</td>\n      <td>65</td>\n    </tr>\n    <tr>\n      <th>20</th>\n      <td>21.0</td>\n      <td>Kerianne Goacher</td>\n      <td>Kerianne</td>\n      <td>Goacher</td>\n      <td>NaN</td>\n      <td>Female</td>\n      <td>45</td>\n    </tr>\n    <tr>\n      <th>21</th>\n      <td>NaN</td>\n      <td>Maurits Shawl</td>\n      <td>Maurits</td>\n      <td>Shawl</td>\n      <td>mshawlj@dmoz.org</td>\n      <td>Male</td>\n      <td>72</td>\n    </tr>\n  </tbody>\n</table>\n</div>"
     },
     "metadata": {},
     "execution_count": 51
    }
   ],
   "source": [
    "df_without_nan = df_removed_duplicates.dropna(how='all')\n",
    "df_without_nan"
   ]
  },
  {
   "source": [
    "## Clean up age column\n",
    "Negative ages and strings (\"old\") are not useful which is why we should get rid of them."
   ],
   "cell_type": "markdown",
   "metadata": {}
  },
  {
   "cell_type": "code",
   "execution_count": 163,
   "metadata": {},
   "outputs": [
    {
     "output_type": "execute_result",
     "data": {
      "text/plain": [
       "      id              full_name  first_name    last_name  \\\n",
       "0    1.0        Mariel Finnigan      Mariel     Finnigan   \n",
       "1    2.0          Kenyon Possek      Kenyon       Possek   \n",
       "2    3.0         Lalo Manifould        Lalo    Manifould   \n",
       "3    4.0         Nickola Carous     Nickola       Carous   \n",
       "4    5.0          Norman Dubbin      Norman       Dubbin   \n",
       "5    6.0           Hasty Perdue       Hasty       Perdue   \n",
       "6    7.0         Franz Castello       Franz     Castello   \n",
       "7    8.0           Jorge Tarney       Jorge       Tarney   \n",
       "8    9.0     Eunice Blakebrough      Eunice  Blakebrough   \n",
       "9   10.0  Kristopher Frankcombe  Kristopher   Frankcombe   \n",
       "10  11.0           Palm Domotor        Palm      Domotor   \n",
       "11  12.0          Luz Lansdowne         Luz    Lansdowne   \n",
       "12  13.0         Modestia Keble    Modestia        Keble   \n",
       "13  14.0           Stacee Bovis      Stacee        Bovis   \n",
       "14  15.0              Eden Wace        Eden         Wace   \n",
       "16  17.0        Tobias Sherburn      Tobias     Sherburn   \n",
       "18  19.0         Clair Skillern       Clair     Skillern   \n",
       "19  20.0        Mathew Addicott      Mathew     Addicott   \n",
       "20  21.0       Kerianne Goacher    Kerianne      Goacher   \n",
       "21   NaN          Maurits Shawl     Maurits        Shawl   \n",
       "\n",
       "                             email  gender  age  \n",
       "0              mfinnigan0@usda.gov  Female   60  \n",
       "1                kpossek1@ucoz.com    Male   12  \n",
       "2              lmanifould2@pbs.org    Male   26  \n",
       "3                ncarous3@phoca.cz    Male    4  \n",
       "4           ndubbin4@wikipedia.org    Male   17  \n",
       "5                  hperdue5@qq.com     NaN   77  \n",
       "6              fcastello6@1688.com    Male   25  \n",
       "7                  jtarney7@ft.com    Male   77  \n",
       "8           eblakebrough8@sohu.com  Female   45  \n",
       "9           kfrankcombe9@slate.com    Male  NaN  \n",
       "10             pdomotora@github.io    Male    6  \n",
       "11     llansdowneb@theguardian.com  Female   16  \n",
       "12                 mkeblec@cmu.edu  Female   91  \n",
       "13           sbovisd@webeden.co.uk  Female   22  \n",
       "14             ewacee@marriott.com  Female   16  \n",
       "16         tsherburnf@facebook.com    Male    2  \n",
       "18              cskillerng@nih.gov    Male  NaN  \n",
       "19  maddicotth@acquirethisname.com    Male   65  \n",
       "20                             NaN  Female   45  \n",
       "21                mshawlj@dmoz.org    Male   72  "
      ],
      "text/html": "<div>\n<style scoped>\n    .dataframe tbody tr th:only-of-type {\n        vertical-align: middle;\n    }\n\n    .dataframe tbody tr th {\n        vertical-align: top;\n    }\n\n    .dataframe thead th {\n        text-align: right;\n    }\n</style>\n<table border=\"1\" class=\"dataframe\">\n  <thead>\n    <tr style=\"text-align: right;\">\n      <th></th>\n      <th>id</th>\n      <th>full_name</th>\n      <th>first_name</th>\n      <th>last_name</th>\n      <th>email</th>\n      <th>gender</th>\n      <th>age</th>\n    </tr>\n  </thead>\n  <tbody>\n    <tr>\n      <th>0</th>\n      <td>1.0</td>\n      <td>Mariel Finnigan</td>\n      <td>Mariel</td>\n      <td>Finnigan</td>\n      <td>mfinnigan0@usda.gov</td>\n      <td>Female</td>\n      <td>60</td>\n    </tr>\n    <tr>\n      <th>1</th>\n      <td>2.0</td>\n      <td>Kenyon Possek</td>\n      <td>Kenyon</td>\n      <td>Possek</td>\n      <td>kpossek1@ucoz.com</td>\n      <td>Male</td>\n      <td>12</td>\n    </tr>\n    <tr>\n      <th>2</th>\n      <td>3.0</td>\n      <td>Lalo Manifould</td>\n      <td>Lalo</td>\n      <td>Manifould</td>\n      <td>lmanifould2@pbs.org</td>\n      <td>Male</td>\n      <td>26</td>\n    </tr>\n    <tr>\n      <th>3</th>\n      <td>4.0</td>\n      <td>Nickola Carous</td>\n      <td>Nickola</td>\n      <td>Carous</td>\n      <td>ncarous3@phoca.cz</td>\n      <td>Male</td>\n      <td>4</td>\n    </tr>\n    <tr>\n      <th>4</th>\n      <td>5.0</td>\n      <td>Norman Dubbin</td>\n      <td>Norman</td>\n      <td>Dubbin</td>\n      <td>ndubbin4@wikipedia.org</td>\n      <td>Male</td>\n      <td>17</td>\n    </tr>\n    <tr>\n      <th>5</th>\n      <td>6.0</td>\n      <td>Hasty Perdue</td>\n      <td>Hasty</td>\n      <td>Perdue</td>\n      <td>hperdue5@qq.com</td>\n      <td>NaN</td>\n      <td>77</td>\n    </tr>\n    <tr>\n      <th>6</th>\n      <td>7.0</td>\n      <td>Franz Castello</td>\n      <td>Franz</td>\n      <td>Castello</td>\n      <td>fcastello6@1688.com</td>\n      <td>Male</td>\n      <td>25</td>\n    </tr>\n    <tr>\n      <th>7</th>\n      <td>8.0</td>\n      <td>Jorge Tarney</td>\n      <td>Jorge</td>\n      <td>Tarney</td>\n      <td>jtarney7@ft.com</td>\n      <td>Male</td>\n      <td>77</td>\n    </tr>\n    <tr>\n      <th>8</th>\n      <td>9.0</td>\n      <td>Eunice Blakebrough</td>\n      <td>Eunice</td>\n      <td>Blakebrough</td>\n      <td>eblakebrough8@sohu.com</td>\n      <td>Female</td>\n      <td>45</td>\n    </tr>\n    <tr>\n      <th>9</th>\n      <td>10.0</td>\n      <td>Kristopher Frankcombe</td>\n      <td>Kristopher</td>\n      <td>Frankcombe</td>\n      <td>kfrankcombe9@slate.com</td>\n      <td>Male</td>\n      <td>NaN</td>\n    </tr>\n    <tr>\n      <th>10</th>\n      <td>11.0</td>\n      <td>Palm Domotor</td>\n      <td>Palm</td>\n      <td>Domotor</td>\n      <td>pdomotora@github.io</td>\n      <td>Male</td>\n      <td>6</td>\n    </tr>\n    <tr>\n      <th>11</th>\n      <td>12.0</td>\n      <td>Luz Lansdowne</td>\n      <td>Luz</td>\n      <td>Lansdowne</td>\n      <td>llansdowneb@theguardian.com</td>\n      <td>Female</td>\n      <td>16</td>\n    </tr>\n    <tr>\n      <th>12</th>\n      <td>13.0</td>\n      <td>Modestia Keble</td>\n      <td>Modestia</td>\n      <td>Keble</td>\n      <td>mkeblec@cmu.edu</td>\n      <td>Female</td>\n      <td>91</td>\n    </tr>\n    <tr>\n      <th>13</th>\n      <td>14.0</td>\n      <td>Stacee Bovis</td>\n      <td>Stacee</td>\n      <td>Bovis</td>\n      <td>sbovisd@webeden.co.uk</td>\n      <td>Female</td>\n      <td>22</td>\n    </tr>\n    <tr>\n      <th>14</th>\n      <td>15.0</td>\n      <td>Eden Wace</td>\n      <td>Eden</td>\n      <td>Wace</td>\n      <td>ewacee@marriott.com</td>\n      <td>Female</td>\n      <td>16</td>\n    </tr>\n    <tr>\n      <th>16</th>\n      <td>17.0</td>\n      <td>Tobias Sherburn</td>\n      <td>Tobias</td>\n      <td>Sherburn</td>\n      <td>tsherburnf@facebook.com</td>\n      <td>Male</td>\n      <td>2</td>\n    </tr>\n    <tr>\n      <th>18</th>\n      <td>19.0</td>\n      <td>Clair Skillern</td>\n      <td>Clair</td>\n      <td>Skillern</td>\n      <td>cskillerng@nih.gov</td>\n      <td>Male</td>\n      <td>NaN</td>\n    </tr>\n    <tr>\n      <th>19</th>\n      <td>20.0</td>\n      <td>Mathew Addicott</td>\n      <td>Mathew</td>\n      <td>Addicott</td>\n      <td>maddicotth@acquirethisname.com</td>\n      <td>Male</td>\n      <td>65</td>\n    </tr>\n    <tr>\n      <th>20</th>\n      <td>21.0</td>\n      <td>Kerianne Goacher</td>\n      <td>Kerianne</td>\n      <td>Goacher</td>\n      <td>NaN</td>\n      <td>Female</td>\n      <td>45</td>\n    </tr>\n    <tr>\n      <th>21</th>\n      <td>NaN</td>\n      <td>Maurits Shawl</td>\n      <td>Maurits</td>\n      <td>Shawl</td>\n      <td>mshawlj@dmoz.org</td>\n      <td>Male</td>\n      <td>72</td>\n    </tr>\n  </tbody>\n</table>\n</div>"
     },
     "metadata": {},
     "execution_count": 163
    }
   ],
   "source": [
    "#indexNames = df_without_nan[~(df_without_nan['age'] > \"0\")].index\n",
    "index = np.array([])\n",
    "for i, row in df_without_nan.iterrows():\n",
    "    unique_id = i\n",
    "    if row['age'].isnumeric() == False:\n",
    "        #print(df_without_nan.loc[i]['age'])\n",
    "        index = np.append(index, df_without_nan.loc[i]['age'])\n",
    "df_cleaned_up_age = df_without_nan.replace(index, np.nan)\n",
    "df_cleaned_up_age"
   ]
  },
  {
   "source": [
    "## Last clean up\n",
    "Replacing the last NaNs with zeros, conversion of ID, minor cleaning jobs."
   ],
   "cell_type": "markdown",
   "metadata": {}
  },
  {
   "cell_type": "code",
   "execution_count": 169,
   "metadata": {},
   "outputs": [
    {
     "output_type": "execute_result",
     "data": {
      "text/plain": [
       "    id              full_name  first_name    last_name  \\\n",
       "0    1        Mariel Finnigan      Mariel     Finnigan   \n",
       "1    2          Kenyon Possek      Kenyon       Possek   \n",
       "2    3         Lalo Manifould        Lalo    Manifould   \n",
       "3    4         Nickola Carous     Nickola       Carous   \n",
       "4    5          Norman Dubbin      Norman       Dubbin   \n",
       "5    6           Hasty Perdue       Hasty       Perdue   \n",
       "6    7         Franz Castello       Franz     Castello   \n",
       "7    8           Jorge Tarney       Jorge       Tarney   \n",
       "8    9     Eunice Blakebrough      Eunice  Blakebrough   \n",
       "9   10  Kristopher Frankcombe  Kristopher   Frankcombe   \n",
       "10  11           Palm Domotor        Palm      Domotor   \n",
       "11  12          Luz Lansdowne         Luz    Lansdowne   \n",
       "12  13         Modestia Keble    Modestia        Keble   \n",
       "13  14           Stacee Bovis      Stacee        Bovis   \n",
       "14  15              Eden Wace        Eden         Wace   \n",
       "16  17        Tobias Sherburn      Tobias     Sherburn   \n",
       "18  19         Clair Skillern       Clair     Skillern   \n",
       "19  20        Mathew Addicott      Mathew     Addicott   \n",
       "20  21       Kerianne Goacher    Kerianne      Goacher   \n",
       "21  22          Maurits Shawl     Maurits        Shawl   \n",
       "\n",
       "                             email  gender age  \n",
       "0              mfinnigan0@usda.gov  Female  60  \n",
       "1                kpossek1@ucoz.com    Male  12  \n",
       "2              lmanifould2@pbs.org    Male  26  \n",
       "3                ncarous3@phoca.cz    Male   4  \n",
       "4           ndubbin4@wikipedia.org    Male  17  \n",
       "5                  hperdue5@qq.com  Female  77  \n",
       "6              fcastello6@1688.com    Male  25  \n",
       "7                  jtarney7@ft.com    Male  77  \n",
       "8           eblakebrough8@sohu.com  Female  45  \n",
       "9           kfrankcombe9@slate.com    Male   0  \n",
       "10             pdomotora@github.io    Male   6  \n",
       "11     llansdowneb@theguardian.com  Female  16  \n",
       "12                 mkeblec@cmu.edu  Female  91  \n",
       "13           sbovisd@webeden.co.uk  Female  22  \n",
       "14             ewacee@marriott.com  Female  16  \n",
       "16         tsherburnf@facebook.com    Male   2  \n",
       "18              cskillerng@nih.gov    Male   0  \n",
       "19  maddicotth@acquirethisname.com    Male  65  \n",
       "20                               0  Female  45  \n",
       "21                mshawlj@dmoz.org    Male  72  "
      ],
      "text/html": "<div>\n<style scoped>\n    .dataframe tbody tr th:only-of-type {\n        vertical-align: middle;\n    }\n\n    .dataframe tbody tr th {\n        vertical-align: top;\n    }\n\n    .dataframe thead th {\n        text-align: right;\n    }\n</style>\n<table border=\"1\" class=\"dataframe\">\n  <thead>\n    <tr style=\"text-align: right;\">\n      <th></th>\n      <th>id</th>\n      <th>full_name</th>\n      <th>first_name</th>\n      <th>last_name</th>\n      <th>email</th>\n      <th>gender</th>\n      <th>age</th>\n    </tr>\n  </thead>\n  <tbody>\n    <tr>\n      <th>0</th>\n      <td>1</td>\n      <td>Mariel Finnigan</td>\n      <td>Mariel</td>\n      <td>Finnigan</td>\n      <td>mfinnigan0@usda.gov</td>\n      <td>Female</td>\n      <td>60</td>\n    </tr>\n    <tr>\n      <th>1</th>\n      <td>2</td>\n      <td>Kenyon Possek</td>\n      <td>Kenyon</td>\n      <td>Possek</td>\n      <td>kpossek1@ucoz.com</td>\n      <td>Male</td>\n      <td>12</td>\n    </tr>\n    <tr>\n      <th>2</th>\n      <td>3</td>\n      <td>Lalo Manifould</td>\n      <td>Lalo</td>\n      <td>Manifould</td>\n      <td>lmanifould2@pbs.org</td>\n      <td>Male</td>\n      <td>26</td>\n    </tr>\n    <tr>\n      <th>3</th>\n      <td>4</td>\n      <td>Nickola Carous</td>\n      <td>Nickola</td>\n      <td>Carous</td>\n      <td>ncarous3@phoca.cz</td>\n      <td>Male</td>\n      <td>4</td>\n    </tr>\n    <tr>\n      <th>4</th>\n      <td>5</td>\n      <td>Norman Dubbin</td>\n      <td>Norman</td>\n      <td>Dubbin</td>\n      <td>ndubbin4@wikipedia.org</td>\n      <td>Male</td>\n      <td>17</td>\n    </tr>\n    <tr>\n      <th>5</th>\n      <td>6</td>\n      <td>Hasty Perdue</td>\n      <td>Hasty</td>\n      <td>Perdue</td>\n      <td>hperdue5@qq.com</td>\n      <td>Female</td>\n      <td>77</td>\n    </tr>\n    <tr>\n      <th>6</th>\n      <td>7</td>\n      <td>Franz Castello</td>\n      <td>Franz</td>\n      <td>Castello</td>\n      <td>fcastello6@1688.com</td>\n      <td>Male</td>\n      <td>25</td>\n    </tr>\n    <tr>\n      <th>7</th>\n      <td>8</td>\n      <td>Jorge Tarney</td>\n      <td>Jorge</td>\n      <td>Tarney</td>\n      <td>jtarney7@ft.com</td>\n      <td>Male</td>\n      <td>77</td>\n    </tr>\n    <tr>\n      <th>8</th>\n      <td>9</td>\n      <td>Eunice Blakebrough</td>\n      <td>Eunice</td>\n      <td>Blakebrough</td>\n      <td>eblakebrough8@sohu.com</td>\n      <td>Female</td>\n      <td>45</td>\n    </tr>\n    <tr>\n      <th>9</th>\n      <td>10</td>\n      <td>Kristopher Frankcombe</td>\n      <td>Kristopher</td>\n      <td>Frankcombe</td>\n      <td>kfrankcombe9@slate.com</td>\n      <td>Male</td>\n      <td>0</td>\n    </tr>\n    <tr>\n      <th>10</th>\n      <td>11</td>\n      <td>Palm Domotor</td>\n      <td>Palm</td>\n      <td>Domotor</td>\n      <td>pdomotora@github.io</td>\n      <td>Male</td>\n      <td>6</td>\n    </tr>\n    <tr>\n      <th>11</th>\n      <td>12</td>\n      <td>Luz Lansdowne</td>\n      <td>Luz</td>\n      <td>Lansdowne</td>\n      <td>llansdowneb@theguardian.com</td>\n      <td>Female</td>\n      <td>16</td>\n    </tr>\n    <tr>\n      <th>12</th>\n      <td>13</td>\n      <td>Modestia Keble</td>\n      <td>Modestia</td>\n      <td>Keble</td>\n      <td>mkeblec@cmu.edu</td>\n      <td>Female</td>\n      <td>91</td>\n    </tr>\n    <tr>\n      <th>13</th>\n      <td>14</td>\n      <td>Stacee Bovis</td>\n      <td>Stacee</td>\n      <td>Bovis</td>\n      <td>sbovisd@webeden.co.uk</td>\n      <td>Female</td>\n      <td>22</td>\n    </tr>\n    <tr>\n      <th>14</th>\n      <td>15</td>\n      <td>Eden Wace</td>\n      <td>Eden</td>\n      <td>Wace</td>\n      <td>ewacee@marriott.com</td>\n      <td>Female</td>\n      <td>16</td>\n    </tr>\n    <tr>\n      <th>16</th>\n      <td>17</td>\n      <td>Tobias Sherburn</td>\n      <td>Tobias</td>\n      <td>Sherburn</td>\n      <td>tsherburnf@facebook.com</td>\n      <td>Male</td>\n      <td>2</td>\n    </tr>\n    <tr>\n      <th>18</th>\n      <td>19</td>\n      <td>Clair Skillern</td>\n      <td>Clair</td>\n      <td>Skillern</td>\n      <td>cskillerng@nih.gov</td>\n      <td>Male</td>\n      <td>0</td>\n    </tr>\n    <tr>\n      <th>19</th>\n      <td>20</td>\n      <td>Mathew Addicott</td>\n      <td>Mathew</td>\n      <td>Addicott</td>\n      <td>maddicotth@acquirethisname.com</td>\n      <td>Male</td>\n      <td>65</td>\n    </tr>\n    <tr>\n      <th>20</th>\n      <td>21</td>\n      <td>Kerianne Goacher</td>\n      <td>Kerianne</td>\n      <td>Goacher</td>\n      <td>0</td>\n      <td>Female</td>\n      <td>45</td>\n    </tr>\n    <tr>\n      <th>21</th>\n      <td>22</td>\n      <td>Maurits Shawl</td>\n      <td>Maurits</td>\n      <td>Shawl</td>\n      <td>mshawlj@dmoz.org</td>\n      <td>Male</td>\n      <td>72</td>\n    </tr>\n  </tbody>\n</table>\n</div>"
     },
     "metadata": {},
     "execution_count": 169
    }
   ],
   "source": [
    "df_final = df_cleaned_up_age.fillna(0)\n",
    "\n",
    "# Converting the ID to integer\n",
    "df_final['id'] = df_final['id'].apply(np.int64)\n",
    "\n",
    "# Guessing the gender of Hasty, Source: https://www.names.org/n/hasty/about\n",
    "df_final.at[5,'gender'] = 'Female'\n",
    "\n",
    "# Replacing the id on index 21\n",
    "df_final.at[21,'id'] = '22'\n",
    "df_final"
   ]
  },
  {
   "source": [
    "## Conclusion\n",
    "The data set is still not perfect. Replacing an `id` manually (see index 21) might not be useful which is we could think of getting rid of the `id` column at all. Non-existing email addresses should be handled by a processor to avoid sending emails to invalid email addresses."
   ],
   "cell_type": "markdown",
   "metadata": {}
  }
 ]
}