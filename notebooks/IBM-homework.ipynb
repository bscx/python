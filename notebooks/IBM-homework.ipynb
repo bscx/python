{
  "nbformat": 4,
  "nbformat_minor": 0,
  "metadata": {
    "kernelspec": {
      "name": "python3",
      "display_name": "Python 3.9.5 64-bit"
    },
    "language_info": {
      "codemirror_mode": {
        "name": "ipython",
        "version": 3
      },
      "file_extension": ".py",
      "mimetype": "text/x-python",
      "name": "python",
      "nbconvert_exporter": "python",
      "pygments_lexer": "ipython3",
      "version": "3.9.5"
    },
    "colab": {
      "name": "iris-demo.ipynb",
      "provenance": []
    },
    "metadata": {
      "interpreter": {
        "hash": "aee8b7b246df8f9039afb4144a1f6fd8d2ca17a180786b69acc140d282b71a49"
      }
    },
    "interpreter": {
      "hash": "aee8b7b246df8f9039afb4144a1f6fd8d2ca17a180786b69acc140d282b71a49"
    }
  },
  "cells": [
    {
      "source": [
        "# ESA 10: Instance Based Methods\n",
        "## Exercise 1"
      ],
      "cell_type": "markdown",
      "metadata": {}
    },
    {
      "source": [
        "## Initialization"
      ],
      "cell_type": "markdown",
      "metadata": {}
    },
    {
      "cell_type": "code",
      "execution_count": 7,
      "metadata": {},
      "outputs": [
        {
          "output_type": "stream",
          "name": "stdout",
          "text": [
            "[['158' '58']\n ['158' '59']\n ['158' '63']\n ['160' '59']\n ['160' '60']\n ['163' '60']\n ['163' '61']\n ['160' '64']\n ['163' '64']\n ['165' '61']\n ['165' '62']\n ['165' '65']\n ['168' '62']\n ['168' '63']\n ['168' '66']\n ['170' '63']\n ['170' '64']\n ['170' '68']]\n"
          ]
        }
      ],
      "source": [
        "from sklearn.model_selection import train_test_split\n",
        "from sklearn.neighbors import KNeighborsClassifier\n",
        "from sklearn import preprocessing\n",
        "import numpy as np\n",
        "\n",
        "# Source: https://www.listendata.com/2017/12/k-nearest-neighbor-step-by-step-tutorial.html\n",
        "# Assigning features and label variables\n",
        "# First Feature\n",
        "height=['158','158','158','160','160','163','163','160','163','165','165','165','168','168','168','170','170','170']\n",
        "# Second Feature\n",
        "weight=['58','59','63','59','60','60','61','64','64','61','62','65','62','63','66','63','64','68']\n",
        "\n",
        "# Label or target variable\n",
        "shirt_size=['M','M','M','M','M','M','M','L','L','L','L','L','L','L','L','L','L','L']\n",
        "\n",
        "features = np.stack((height, weight), axis=-1)\n",
        "\n",
        "print(features)"
      ]
    },
    {
      "source": [
        "## Normalize the data"
      ],
      "cell_type": "markdown",
      "metadata": {}
    },
    {
      "cell_type": "code",
      "execution_count": 8,
      "metadata": {},
      "outputs": [
        {
          "output_type": "stream",
          "name": "stdout",
          "text": [
            "[[0.93874823 0.34460378]\n [0.93681561 0.34982355]\n [0.92888159 0.37037683]\n [0.93824296 0.34597709]\n [0.93632918 0.35112344]\n [0.93844137 0.34543854]\n [0.93656509 0.35049369]\n [0.92847669 0.37139068]\n [0.93082089 0.36547569]\n [0.93795431 0.34675887]\n [0.93609582 0.3517451 ]\n [0.93040839 0.36652452]\n [0.93815229 0.34622287]\n [0.93632918 0.35112344]\n [0.93075149 0.36565237]\n [0.93768221 0.34749399]\n [0.93587592 0.35232976]\n [0.92847669 0.37139068]]\n"
          ]
        }
      ],
      "source": [
        "normalized_features = preprocessing.normalize(features)\n",
        "print(normalized_features)"
      ]
    },
    {
      "source": [
        "## Simple euclidean distance function\n",
        "\n",
        "```\n",
        "def distance(instance1, instance2):\n",
        "    # just in case, if the instances are lists or tuples:\n",
        "    instance1 = np.array(instance1) \n",
        "    instance2 = np.array(instance2)\n",
        "    \n",
        "    return np.linalg.norm(instance1 - instance2)\n",
        "```\n",
        "(Source: https://colab.research.google.com/drive/1DnD_RRAZuanLlJSCmJjRbGtuloZVOirX?usp=drive_open#scrollTo=xEcFguiEynCS)"
      ],
      "cell_type": "markdown",
      "metadata": {}
    },
    {
      "source": [
        "## Take a point and calculate the distance to all points"
      ],
      "cell_type": "markdown",
      "metadata": {}
    },
    {
      "cell_type": "code",
      "execution_count": 9,
      "metadata": {},
      "outputs": [
        {
          "output_type": "stream",
          "name": "stdout",
          "text": [
            "[0.038787932315880354, 0.033222769493538896, 0.01119231078938203, 0.037324885668345055, 0.03183502894810439, 0.037898720634011944, 0.032507436791182995, 0.010100623647668021, 0.016463067125007627, 0.03649166667004819, 0.031171100803768604, 0.015336070547418148, 0.0370629622842436, 0.0318350289481044, 0.01627324812396743, 0.03570792346923691, 0.030546526610812537, 0.01010062364766798]\n"
          ]
        }
      ],
      "source": [
        "def distance(instance1, instance2):\n",
        "    # just in case, if the instances are lists or tuples:\n",
        "    instance1 = np.array(instance1) \n",
        "    instance2 = np.array(instance2)\n",
        "    \n",
        "    return np.linalg.norm(instance1 - instance2)\n",
        "\n",
        "point = (170, 70)\n",
        "normalized_point = preprocessing.normalize([point])\n",
        "\n",
        "length = features.size/2\n",
        "distances = []\n",
        "for i in range(int(length)):\n",
        "    distances.append(distance(normalized_features[i], normalized_point))\n",
        "\n",
        "print(distances)"
      ]
    },
    {
      "source": [
        "## Take the list and sort it"
      ],
      "cell_type": "markdown",
      "metadata": {}
    },
    {
      "cell_type": "code",
      "execution_count": 10,
      "metadata": {},
      "outputs": [
        {
          "output_type": "execute_result",
          "data": {
            "text/plain": [
              "array([['0.01010062364766798', 'L'],\n",
              "       ['0.010100623647668021', 'L'],\n",
              "       ['0.01119231078938203', 'M'],\n",
              "       ['0.015336070547418148', 'L'],\n",
              "       ['0.01627324812396743', 'L'],\n",
              "       ['0.016463067125007627', 'L'],\n",
              "       ['0.030546526610812537', 'L'],\n",
              "       ['0.031171100803768604', 'L'],\n",
              "       ['0.03183502894810439', 'M'],\n",
              "       ['0.0318350289481044', 'L'],\n",
              "       ['0.032507436791182995', 'M'],\n",
              "       ['0.033222769493538896', 'M'],\n",
              "       ['0.03570792346923691', 'L'],\n",
              "       ['0.03649166667004819', 'L'],\n",
              "       ['0.0370629622842436', 'L'],\n",
              "       ['0.037324885668345055', 'M'],\n",
              "       ['0.037898720634011944', 'M'],\n",
              "       ['0.038787932315880354', 'M']], dtype='<U32')"
            ]
          },
          "metadata": {},
          "execution_count": 10
        }
      ],
      "source": [
        "# Important step: Merge the calculated distances with the target classes\n",
        "targets = np.stack((distances, shirt_size), axis=-1)\n",
        "\n",
        "# Sort rows by ascending distances values (without breaking the relationship to the assigned label)\n",
        "sorted_targets = targets[np.argsort(targets[:, 0])]\n",
        "sorted_targets"
      ]
    },
    {
      "source": [
        "## Take the max in order to determine the target class"
      ],
      "cell_type": "markdown",
      "metadata": {}
    },
    {
      "cell_type": "code",
      "execution_count": 12,
      "metadata": {},
      "outputs": [
        {
          "output_type": "stream",
          "name": "stdout",
          "text": [
            "The data point (170, 70) can be assigned to the target class L.\n"
          ]
        }
      ],
      "source": [
        "\n",
        "target_class = sorted_targets[0][1]\n",
        "print(\"The data point {} can be assigned to the target class {}.\".format(point, target_class))"
      ]
    },
    {
      "source": [
        "## Exercise 2\n",
        "### Initialization"
      ],
      "cell_type": "markdown",
      "metadata": {}
    },
    {
      "cell_type": "code",
      "execution_count": 13,
      "metadata": {},
      "outputs": [],
      "source": [
        "from sklearn.datasets import load_iris\n",
        "iris = load_iris()"
      ]
    },
    {
      "source": [
        "## Determine KNN value\n",
        "### Initialization of model"
      ],
      "cell_type": "markdown",
      "metadata": {}
    },
    {
      "cell_type": "code",
      "execution_count": 14,
      "metadata": {},
      "outputs": [
        {
          "output_type": "execute_result",
          "data": {
            "text/plain": [
              "KNeighborsClassifier(n_neighbors=1)"
            ]
          },
          "metadata": {},
          "execution_count": 14
        }
      ],
      "source": [
        "# Teilen des Datasets in training und test sets\n",
        "X_train, X_test, y_train, y_test = train_test_split(iris['data'], iris['target'], random_state=0)\n",
        "model = KNeighborsClassifier(n_neighbors=1)\n",
        "\n",
        "model.fit(X_train, y_train)"
      ]
    },
    {
      "source": [
        "### Feeding the sample data"
      ],
      "cell_type": "markdown",
      "metadata": {}
    },
    {
      "cell_type": "code",
      "execution_count": 15,
      "metadata": {},
      "outputs": [],
      "source": [
        "X_sample = np.array([[4.8, 2.5, 5.3, 2.4]])"
      ]
    },
    {
      "source": [
        "### Prediction"
      ],
      "cell_type": "markdown",
      "metadata": {}
    },
    {
      "cell_type": "code",
      "execution_count": 16,
      "metadata": {},
      "outputs": [],
      "source": [
        "prediction = model.predict(X_sample)"
      ]
    },
    {
      "source": [
        "### Accuracy"
      ],
      "cell_type": "markdown",
      "metadata": {}
    },
    {
      "cell_type": "code",
      "execution_count": 17,
      "metadata": {},
      "outputs": [],
      "source": [
        "accuracy = model.score(X_test, y_test)\n",
        "accuracyInPercent = round(accuracy * 100, 2);"
      ]
    },
    {
      "source": [
        "### Result"
      ],
      "cell_type": "markdown",
      "metadata": {}
    },
    {
      "cell_type": "code",
      "execution_count": 18,
      "metadata": {},
      "outputs": [
        {
          "output_type": "stream",
          "name": "stdout",
          "text": [
            "According to this learner, the given sample is a flower of the type ['virginica'] with an accuracy of 97.37%.\n"
          ]
        }
      ],
      "source": [
        "result = iris['target_names'][prediction]\n",
        "print(\"According to this learner, the given sample is a flower of the type {} with an accuracy of {}%.\".format(result, accuracyInPercent))"
      ]
    }
  ]
}