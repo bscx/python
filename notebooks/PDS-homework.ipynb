{
 "metadata": {
  "language_info": {
   "codemirror_mode": {
    "name": "ipython",
    "version": 3
   },
   "file_extension": ".py",
   "mimetype": "text/x-python",
   "name": "python",
   "nbconvert_exporter": "python",
   "pygments_lexer": "ipython3",
   "version": "3.9.5"
  },
  "orig_nbformat": 2,
  "kernelspec": {
   "name": "python395jvsc74a57bd0aee8b7b246df8f9039afb4144a1f6fd8d2ca17a180786b69acc140d282b71a49",
   "display_name": "Python 3.9.5 64-bit"
  },
  "metadata": {
   "interpreter": {
    "hash": "aee8b7b246df8f9039afb4144a1f6fd8d2ca17a180786b69acc140d282b71a49"
   }
  }
 },
 "nbformat": 4,
 "nbformat_minor": 2,
 "cells": [
  {
   "source": [
    "# PDS: Analyzing countries\n",
    "## Import and show data"
   ],
   "cell_type": "markdown",
   "metadata": {}
  },
  {
   "cell_type": "code",
   "execution_count": 8,
   "metadata": {},
   "outputs": [
    {
     "output_type": "execute_result",
     "data": {
      "text/plain": [
       "             People     Area   BIP Currency\n",
       "Name                                       \n",
       "Germany    82521653   357385  3466      EUR\n",
       "Japan     126045000   377835  4938      YEN\n",
       "Canada     36503097  9984670  1529      CAD\n",
       "Italy      60501718   301338  1850      EUR\n",
       "Brazilia  208360000  8515770  1798     REAL"
      ],
      "text/html": "<div>\n<style scoped>\n    .dataframe tbody tr th:only-of-type {\n        vertical-align: middle;\n    }\n\n    .dataframe tbody tr th {\n        vertical-align: top;\n    }\n\n    .dataframe thead th {\n        text-align: right;\n    }\n</style>\n<table border=\"1\" class=\"dataframe\">\n  <thead>\n    <tr style=\"text-align: right;\">\n      <th></th>\n      <th>People</th>\n      <th>Area</th>\n      <th>BIP</th>\n      <th>Currency</th>\n    </tr>\n    <tr>\n      <th>Name</th>\n      <th></th>\n      <th></th>\n      <th></th>\n      <th></th>\n    </tr>\n  </thead>\n  <tbody>\n    <tr>\n      <th>Germany</th>\n      <td>82521653</td>\n      <td>357385</td>\n      <td>3466</td>\n      <td>EUR</td>\n    </tr>\n    <tr>\n      <th>Japan</th>\n      <td>126045000</td>\n      <td>377835</td>\n      <td>4938</td>\n      <td>YEN</td>\n    </tr>\n    <tr>\n      <th>Canada</th>\n      <td>36503097</td>\n      <td>9984670</td>\n      <td>1529</td>\n      <td>CAD</td>\n    </tr>\n    <tr>\n      <th>Italy</th>\n      <td>60501718</td>\n      <td>301338</td>\n      <td>1850</td>\n      <td>EUR</td>\n    </tr>\n    <tr>\n      <th>Brazilia</th>\n      <td>208360000</td>\n      <td>8515770</td>\n      <td>1798</td>\n      <td>REAL</td>\n    </tr>\n  </tbody>\n</table>\n</div>"
     },
     "metadata": {},
     "execution_count": 8
    }
   ],
   "source": [
    "import numpy as np\n",
    "import pandas as pd\n",
    "\n",
    "url = 'https://raw.githubusercontent.com/edlich/eternalrepo/master/DS-WAHLFACH/countries.csv'\n",
    "countries = pd.read_csv(url, index_col=0)\n",
    "countriesDataFrame = pd.DataFrame(countries)\n",
    "countriesDataFrame"
   ]
  },
  {
   "source": [
    "## Basic information"
   ],
   "cell_type": "markdown",
   "metadata": {}
  },
  {
   "cell_type": "code",
   "execution_count": 371,
   "metadata": {},
   "outputs": [
    {
     "output_type": "stream",
     "name": "stdout",
     "text": [
      "<class 'pandas.core.frame.DataFrame'>\nIndex: 5 entries, Germany to Brazilia\nData columns (total 4 columns):\n #   Column    Non-Null Count  Dtype \n---  ------    --------------  ----- \n 0   People    5 non-null      int64 \n 1   Area      5 non-null      int64 \n 2   BIP       5 non-null      int64 \n 3   Currency  5 non-null      object\ndtypes: int64(3), object(1)\nmemory usage: 200.0+ bytes\n"
     ]
    }
   ],
   "source": [
    "countriesDataFrame.info()"
   ]
  },
  {
   "source": [
    "## Last 4 rows of countries data frame"
   ],
   "cell_type": "markdown",
   "metadata": {}
  },
  {
   "cell_type": "code",
   "execution_count": 372,
   "metadata": {},
   "outputs": [
    {
     "output_type": "execute_result",
     "data": {
      "text/plain": [
       "             People     Area   BIP Currency\n",
       "Name                                       \n",
       "Japan     126045000   377835  4938      YEN\n",
       "Canada     36503097  9984670  1529      CAD\n",
       "Italy      60501718   301338  1850      EUR\n",
       "Brazilia  208360000  8515770  1798     REAL"
      ],
      "text/html": "<div>\n<style scoped>\n    .dataframe tbody tr th:only-of-type {\n        vertical-align: middle;\n    }\n\n    .dataframe tbody tr th {\n        vertical-align: top;\n    }\n\n    .dataframe thead th {\n        text-align: right;\n    }\n</style>\n<table border=\"1\" class=\"dataframe\">\n  <thead>\n    <tr style=\"text-align: right;\">\n      <th></th>\n      <th>People</th>\n      <th>Area</th>\n      <th>BIP</th>\n      <th>Currency</th>\n    </tr>\n    <tr>\n      <th>Name</th>\n      <th></th>\n      <th></th>\n      <th></th>\n      <th></th>\n    </tr>\n  </thead>\n  <tbody>\n    <tr>\n      <th>Japan</th>\n      <td>126045000</td>\n      <td>377835</td>\n      <td>4938</td>\n      <td>YEN</td>\n    </tr>\n    <tr>\n      <th>Canada</th>\n      <td>36503097</td>\n      <td>9984670</td>\n      <td>1529</td>\n      <td>CAD</td>\n    </tr>\n    <tr>\n      <th>Italy</th>\n      <td>60501718</td>\n      <td>301338</td>\n      <td>1850</td>\n      <td>EUR</td>\n    </tr>\n    <tr>\n      <th>Brazilia</th>\n      <td>208360000</td>\n      <td>8515770</td>\n      <td>1798</td>\n      <td>REAL</td>\n    </tr>\n  </tbody>\n</table>\n</div>"
     },
     "metadata": {},
     "execution_count": 372
    }
   ],
   "source": [
    "countriesDataFrame.tail(4)"
   ]
  },
  {
   "source": [
    "## Show all the row of countries who have the EURO"
   ],
   "cell_type": "markdown",
   "metadata": {}
  },
  {
   "cell_type": "code",
   "execution_count": 373,
   "metadata": {},
   "outputs": [
    {
     "output_type": "execute_result",
     "data": {
      "text/plain": [
       "           People    Area   BIP Currency\n",
       "Name                                    \n",
       "Germany  82521653  357385  3466      EUR\n",
       "Italy    60501718  301338  1850      EUR"
      ],
      "text/html": "<div>\n<style scoped>\n    .dataframe tbody tr th:only-of-type {\n        vertical-align: middle;\n    }\n\n    .dataframe tbody tr th {\n        vertical-align: top;\n    }\n\n    .dataframe thead th {\n        text-align: right;\n    }\n</style>\n<table border=\"1\" class=\"dataframe\">\n  <thead>\n    <tr style=\"text-align: right;\">\n      <th></th>\n      <th>People</th>\n      <th>Area</th>\n      <th>BIP</th>\n      <th>Currency</th>\n    </tr>\n    <tr>\n      <th>Name</th>\n      <th></th>\n      <th></th>\n      <th></th>\n      <th></th>\n    </tr>\n  </thead>\n  <tbody>\n    <tr>\n      <th>Germany</th>\n      <td>82521653</td>\n      <td>357385</td>\n      <td>3466</td>\n      <td>EUR</td>\n    </tr>\n    <tr>\n      <th>Italy</th>\n      <td>60501718</td>\n      <td>301338</td>\n      <td>1850</td>\n      <td>EUR</td>\n    </tr>\n  </tbody>\n</table>\n</div>"
     },
     "metadata": {},
     "execution_count": 373
    }
   ],
   "source": [
    "countriesEUR = countriesDataFrame.loc[countriesDataFrame[\"Currency\"] == \"EUR\"]\n",
    "countriesEUR"
   ]
  },
  {
   "source": [
    "## Show only name and Currency in a new data frame"
   ],
   "cell_type": "markdown",
   "metadata": {}
  },
  {
   "cell_type": "code",
   "execution_count": 383,
   "metadata": {},
   "outputs": [
    {
     "output_type": "execute_result",
     "data": {
      "text/plain": [
       "         Currency\n",
       "Name             \n",
       "Germany       EUR\n",
       "Japan         YEN\n",
       "Canada        CAD\n",
       "Italy         EUR\n",
       "Brazilia     REAL"
      ],
      "text/html": "<div>\n<style scoped>\n    .dataframe tbody tr th:only-of-type {\n        vertical-align: middle;\n    }\n\n    .dataframe tbody tr th {\n        vertical-align: top;\n    }\n\n    .dataframe thead th {\n        text-align: right;\n    }\n</style>\n<table border=\"1\" class=\"dataframe\">\n  <thead>\n    <tr style=\"text-align: right;\">\n      <th></th>\n      <th>Currency</th>\n    </tr>\n    <tr>\n      <th>Name</th>\n      <th></th>\n    </tr>\n  </thead>\n  <tbody>\n    <tr>\n      <th>Germany</th>\n      <td>EUR</td>\n    </tr>\n    <tr>\n      <th>Japan</th>\n      <td>YEN</td>\n    </tr>\n    <tr>\n      <th>Canada</th>\n      <td>CAD</td>\n    </tr>\n    <tr>\n      <th>Italy</th>\n      <td>EUR</td>\n    </tr>\n    <tr>\n      <th>Brazilia</th>\n      <td>REAL</td>\n    </tr>\n  </tbody>\n</table>\n</div>"
     },
     "metadata": {},
     "execution_count": 383
    }
   ],
   "source": [
    "countriesCurrencies = pd.DataFrame(countriesDataFrame['Currency'])\n",
    "countriesCurrencies"
   ]
  },
  {
   "source": [
    "## Show only the rows/countries that have more than 2000 billions USD GDP "
   ],
   "cell_type": "markdown",
   "metadata": {}
  },
  {
   "cell_type": "code",
   "execution_count": 329,
   "metadata": {},
   "outputs": [
    {
     "output_type": "execute_result",
     "data": {
      "text/plain": [
       "             People     Area   BIP Currency  GDP in USD\n",
       "Name                                                   \n",
       "Germany    82521653   357385  3466      EUR     2842.12\n",
       "Japan     126045000   377835  4938      YEN   538242.00\n",
       "Brazilia  208360000  8515770  1798     REAL     9475.46"
      ],
      "text/html": "<div>\n<style scoped>\n    .dataframe tbody tr th:only-of-type {\n        vertical-align: middle;\n    }\n\n    .dataframe tbody tr th {\n        vertical-align: top;\n    }\n\n    .dataframe thead th {\n        text-align: right;\n    }\n</style>\n<table border=\"1\" class=\"dataframe\">\n  <thead>\n    <tr style=\"text-align: right;\">\n      <th></th>\n      <th>People</th>\n      <th>Area</th>\n      <th>BIP</th>\n      <th>Currency</th>\n      <th>GDP in USD</th>\n    </tr>\n    <tr>\n      <th>Name</th>\n      <th></th>\n      <th></th>\n      <th></th>\n      <th></th>\n      <th></th>\n    </tr>\n  </thead>\n  <tbody>\n    <tr>\n      <th>Germany</th>\n      <td>82521653</td>\n      <td>357385</td>\n      <td>3466</td>\n      <td>EUR</td>\n      <td>2842.12</td>\n    </tr>\n    <tr>\n      <th>Japan</th>\n      <td>126045000</td>\n      <td>377835</td>\n      <td>4938</td>\n      <td>YEN</td>\n      <td>538242.00</td>\n    </tr>\n    <tr>\n      <th>Brazilia</th>\n      <td>208360000</td>\n      <td>8515770</td>\n      <td>1798</td>\n      <td>REAL</td>\n      <td>9475.46</td>\n    </tr>\n  </tbody>\n</table>\n</div>"
     },
     "metadata": {},
     "execution_count": 329
    }
   ],
   "source": [
    "# https://stackoverflow.com/questions/46227944/pandas-dataframe-currency-conversion\n",
    "def convertToUSD(args):  # placeholder for your fancy conversion function\n",
    "    people, area, bip, currency = args\n",
    "    # Conversion rates as of 2021-05-16\n",
    "    conversion = {'EUR': 0.82, 'YEN': 109, 'REAL': 5.27, 'CAD': 1.21}\n",
    "    return conversion[currency] * bip\n",
    "\n",
    "countriesDataFrame\n",
    "countriesWithGDP = countriesDataFrame.assign(**{'GDP in USD': countriesDataFrame.apply(convertToUSD, axis=1)})\n",
    "countriesWithGDP.loc[countriesWithGDP['GDP in USD'] > 2000]"
   ]
  },
  {
   "source": [
    "## Select all countries where with inhabitants between 50 and 150 Mio"
   ],
   "cell_type": "markdown",
   "metadata": {}
  },
  {
   "cell_type": "code",
   "execution_count": 330,
   "metadata": {},
   "outputs": [
    {
     "output_type": "execute_result",
     "data": {
      "text/plain": [
       "            People    Area   BIP Currency\n",
       "Name                                     \n",
       "Germany   82521653  357385  3466      EUR\n",
       "Japan    126045000  377835  4938      YEN\n",
       "Italy     60501718  301338  1850      EUR"
      ],
      "text/html": "<div>\n<style scoped>\n    .dataframe tbody tr th:only-of-type {\n        vertical-align: middle;\n    }\n\n    .dataframe tbody tr th {\n        vertical-align: top;\n    }\n\n    .dataframe thead th {\n        text-align: right;\n    }\n</style>\n<table border=\"1\" class=\"dataframe\">\n  <thead>\n    <tr style=\"text-align: right;\">\n      <th></th>\n      <th>People</th>\n      <th>Area</th>\n      <th>BIP</th>\n      <th>Currency</th>\n    </tr>\n    <tr>\n      <th>Name</th>\n      <th></th>\n      <th></th>\n      <th></th>\n      <th></th>\n    </tr>\n  </thead>\n  <tbody>\n    <tr>\n      <th>Germany</th>\n      <td>82521653</td>\n      <td>357385</td>\n      <td>3466</td>\n      <td>EUR</td>\n    </tr>\n    <tr>\n      <th>Japan</th>\n      <td>126045000</td>\n      <td>377835</td>\n      <td>4938</td>\n      <td>YEN</td>\n    </tr>\n    <tr>\n      <th>Italy</th>\n      <td>60501718</td>\n      <td>301338</td>\n      <td>1850</td>\n      <td>EUR</td>\n    </tr>\n  </tbody>\n</table>\n</div>"
     },
     "metadata": {},
     "execution_count": 330
    }
   ],
   "source": [
    "countriesPopulation = countriesDataFrame.loc[(countriesDataFrame[\"People\"] >= 50000000) & (countriesDataFrame[\"People\"] <= 150000000)]\n",
    "countriesPopulation"
   ]
  },
  {
   "source": [
    "## Change BIP to Bip"
   ],
   "cell_type": "markdown",
   "metadata": {}
  },
  {
   "cell_type": "code",
   "execution_count": 15,
   "metadata": {},
   "outputs": [
    {
     "output_type": "execute_result",
     "data": {
      "text/plain": [
       "             People     Area   Bip Currency\n",
       "Name                                       \n",
       "Germany    82521653   357385  3466      EUR\n",
       "Japan     126045000   377835  4938      YEN\n",
       "Canada     36503097  9984670  1529      CAD\n",
       "Italy      60501718   301338  1850      EUR\n",
       "Brazilia  208360000  8515770  1798     REAL"
      ],
      "text/html": "<div>\n<style scoped>\n    .dataframe tbody tr th:only-of-type {\n        vertical-align: middle;\n    }\n\n    .dataframe tbody tr th {\n        vertical-align: top;\n    }\n\n    .dataframe thead th {\n        text-align: right;\n    }\n</style>\n<table border=\"1\" class=\"dataframe\">\n  <thead>\n    <tr style=\"text-align: right;\">\n      <th></th>\n      <th>People</th>\n      <th>Area</th>\n      <th>Bip</th>\n      <th>Currency</th>\n    </tr>\n    <tr>\n      <th>Name</th>\n      <th></th>\n      <th></th>\n      <th></th>\n      <th></th>\n    </tr>\n  </thead>\n  <tbody>\n    <tr>\n      <th>Germany</th>\n      <td>82521653</td>\n      <td>357385</td>\n      <td>3466</td>\n      <td>EUR</td>\n    </tr>\n    <tr>\n      <th>Japan</th>\n      <td>126045000</td>\n      <td>377835</td>\n      <td>4938</td>\n      <td>YEN</td>\n    </tr>\n    <tr>\n      <th>Canada</th>\n      <td>36503097</td>\n      <td>9984670</td>\n      <td>1529</td>\n      <td>CAD</td>\n    </tr>\n    <tr>\n      <th>Italy</th>\n      <td>60501718</td>\n      <td>301338</td>\n      <td>1850</td>\n      <td>EUR</td>\n    </tr>\n    <tr>\n      <th>Brazilia</th>\n      <td>208360000</td>\n      <td>8515770</td>\n      <td>1798</td>\n      <td>REAL</td>\n    </tr>\n  </tbody>\n</table>\n</div>"
     },
     "metadata": {},
     "execution_count": 15
    }
   ],
   "source": [
    "countriesBip = countriesDataFrame.rename(columns={\n",
    "        'BIP': 'Bip', \n",
    "    }, inplace=False)\n",
    "countriesBip"
   ]
  },
  {
   "source": [
    "## Calculate the Bip sum"
   ],
   "cell_type": "markdown",
   "metadata": {}
  },
  {
   "cell_type": "code",
   "execution_count": 332,
   "metadata": {},
   "outputs": [
    {
     "output_type": "stream",
     "name": "stdout",
     "text": [
      "The GDP sum is 13581 .\n"
     ]
    }
   ],
   "source": [
    "countriesBipSum = countriesBip['Bip'].sum()\n",
    "print(\"The GDP sum is\", int(countriesBipSum),\".\")"
   ]
  },
  {
   "source": [
    "## Calculate the average people of all countries"
   ],
   "cell_type": "markdown",
   "metadata": {}
  },
  {
   "cell_type": "code",
   "execution_count": 64,
   "metadata": {},
   "outputs": [
    {
     "output_type": "stream",
     "name": "stdout",
     "text": [
      "There's an average of 102786293 people in all given countries.\n"
     ]
    }
   ],
   "source": [
    "countriesPopMean = countriesDataFrame['People'].mean()\n",
    "print(\"There's an average of\", int(countriesPopMean), \"people in all given countries.\")"
   ]
  },
  {
   "source": [
    "## Sort by name alphabetically"
   ],
   "cell_type": "markdown",
   "metadata": {}
  },
  {
   "cell_type": "code",
   "execution_count": 58,
   "metadata": {},
   "outputs": [
    {
     "output_type": "execute_result",
     "data": {
      "text/plain": [
       "             People     Area   BIP Currency\n",
       "Name                                       \n",
       "Brazilia  208360000  8515770  1798     REAL\n",
       "Canada     36503097  9984670  1529      CAD\n",
       "Germany    82521653   357385  3466      EUR\n",
       "Italy      60501718   301338  1850      EUR\n",
       "Japan     126045000   377835  4938      YEN"
      ],
      "text/html": "<div>\n<style scoped>\n    .dataframe tbody tr th:only-of-type {\n        vertical-align: middle;\n    }\n\n    .dataframe tbody tr th {\n        vertical-align: top;\n    }\n\n    .dataframe thead th {\n        text-align: right;\n    }\n</style>\n<table border=\"1\" class=\"dataframe\">\n  <thead>\n    <tr style=\"text-align: right;\">\n      <th></th>\n      <th>People</th>\n      <th>Area</th>\n      <th>BIP</th>\n      <th>Currency</th>\n    </tr>\n    <tr>\n      <th>Name</th>\n      <th></th>\n      <th></th>\n      <th></th>\n      <th></th>\n    </tr>\n  </thead>\n  <tbody>\n    <tr>\n      <th>Brazilia</th>\n      <td>208360000</td>\n      <td>8515770</td>\n      <td>1798</td>\n      <td>REAL</td>\n    </tr>\n    <tr>\n      <th>Canada</th>\n      <td>36503097</td>\n      <td>9984670</td>\n      <td>1529</td>\n      <td>CAD</td>\n    </tr>\n    <tr>\n      <th>Germany</th>\n      <td>82521653</td>\n      <td>357385</td>\n      <td>3466</td>\n      <td>EUR</td>\n    </tr>\n    <tr>\n      <th>Italy</th>\n      <td>60501718</td>\n      <td>301338</td>\n      <td>1850</td>\n      <td>EUR</td>\n    </tr>\n    <tr>\n      <th>Japan</th>\n      <td>126045000</td>\n      <td>377835</td>\n      <td>4938</td>\n      <td>YEN</td>\n    </tr>\n  </tbody>\n</table>\n</div>"
     },
     "metadata": {},
     "execution_count": 58
    }
   ],
   "source": [
    "countriesDataFrame.sort_index()"
   ]
  },
  {
   "source": [
    "## All countries with > 1000000 get BIG and <= 1000000 get SMALL in the cell replaced!"
   ],
   "cell_type": "markdown",
   "metadata": {}
  },
  {
   "cell_type": "code",
   "execution_count": 388,
   "metadata": {},
   "outputs": [
    {
     "output_type": "execute_result",
     "data": {
      "text/plain": [
       "             People   Area   BIP Currency\n",
       "Name                                     \n",
       "Germany    82521653  SMALL  3466      EUR\n",
       "Japan     126045000  SMALL  4938      YEN\n",
       "Canada     36503097    BIG  1529      CAD\n",
       "Italy      60501718  SMALL  1850      EUR\n",
       "Brazilia  208360000    BIG  1798     REAL"
      ],
      "text/html": "<div>\n<style scoped>\n    .dataframe tbody tr th:only-of-type {\n        vertical-align: middle;\n    }\n\n    .dataframe tbody tr th {\n        vertical-align: top;\n    }\n\n    .dataframe thead th {\n        text-align: right;\n    }\n</style>\n<table border=\"1\" class=\"dataframe\">\n  <thead>\n    <tr style=\"text-align: right;\">\n      <th></th>\n      <th>People</th>\n      <th>Area</th>\n      <th>BIP</th>\n      <th>Currency</th>\n    </tr>\n    <tr>\n      <th>Name</th>\n      <th></th>\n      <th></th>\n      <th></th>\n      <th></th>\n    </tr>\n  </thead>\n  <tbody>\n    <tr>\n      <th>Germany</th>\n      <td>82521653</td>\n      <td>SMALL</td>\n      <td>3466</td>\n      <td>EUR</td>\n    </tr>\n    <tr>\n      <th>Japan</th>\n      <td>126045000</td>\n      <td>SMALL</td>\n      <td>4938</td>\n      <td>YEN</td>\n    </tr>\n    <tr>\n      <th>Canada</th>\n      <td>36503097</td>\n      <td>BIG</td>\n      <td>1529</td>\n      <td>CAD</td>\n    </tr>\n    <tr>\n      <th>Italy</th>\n      <td>60501718</td>\n      <td>SMALL</td>\n      <td>1850</td>\n      <td>EUR</td>\n    </tr>\n    <tr>\n      <th>Brazilia</th>\n      <td>208360000</td>\n      <td>BIG</td>\n      <td>1798</td>\n      <td>REAL</td>\n    </tr>\n  </tbody>\n</table>\n</div>"
     },
     "metadata": {},
     "execution_count": 388
    }
   ],
   "source": [
    "countriesAreaLabels = countriesDataFrame.copy(deep=True)\n",
    "countriesAreaLabels['Area'] = np.where((countriesAreaLabels['Area'] <= 1000000), 'SMALL', 'BIG')\n",
    "countriesAreaLabels"
   ]
  }
 ]
}